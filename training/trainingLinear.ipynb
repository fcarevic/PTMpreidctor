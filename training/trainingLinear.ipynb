{
 "cells": [
  {
   "cell_type": "markdown",
   "id": "78235b78-4f2c-4cec-8342-dd4556d182b1",
   "metadata": {},
   "source": [
    "# OUTLINE\n",
    "This notebook contains training and evaluation phase for the linear model based on the:\n",
    "- **One-hot** encodings \n",
    "- **PESTO** embeddings"
   ]
  },
  {
   "cell_type": "markdown",
   "id": "a90016cd-ad03-4eec-b761-b13c3a8f01a7",
   "metadata": {},
   "source": [
    "# Linear model "
   ]
  },
  {
   "cell_type": "code",
   "execution_count": 1,
   "id": "b1f187f2-b3da-463b-9c09-06dc12b2dc10",
   "metadata": {
    "id": "b1f187f2-b3da-463b-9c09-06dc12b2dc10"
   },
   "outputs": [],
   "source": [
    "import numpy as np\n",
    "from torch.utils.data import Dataset, DataLoader, random_split\n",
    "import torch\n",
    "import torch.nn as nn\n",
    "import torch.optim as optim\n",
    "from torch.utils.tensorboard import SummaryWriter\n",
    "import matplotlib\n",
    "from matplotlib import pyplot as plt\n",
    "import seaborn as sns\n",
    "import pandas as pd\n",
    "from utils import *\n",
    "from sklearn.metrics import roc_auc_score\n",
    "from sklearn.metrics import roc_curve, precision_recall_curve, average_precision_score, auc\n",
    "import re\n",
    "import training_and_evaluation \n",
    "from datasets import AASequenceDatasetLinear "
   ]
  },
  {
   "cell_type": "code",
   "execution_count": 2,
   "id": "1b1d2435-f62b-4264-bd90-589e336a2c76",
   "metadata": {},
   "outputs": [],
   "source": [
    "def my_collate(x):\n",
    "    '''\n",
    "    Converts array<tuple> to tuple<array>.\n",
    "    \n",
    "    Paramaters\n",
    "    ----------\n",
    "    x : array<tuple>\n",
    "    \n",
    "    Returns\n",
    "    -------\n",
    "    tuple<array>\n",
    "        Converted array of tuples\n",
    "    '''\n",
    "    return list(zip(*x))"
   ]
  },
  {
   "cell_type": "code",
   "execution_count": 3,
   "id": "6Vj5Y8fB_HwS",
   "metadata": {
    "id": "6Vj5Y8fB_HwS"
   },
   "outputs": [],
   "source": [
    "# Train data path\n",
    "TRAIN_DATA_PATH = './data/merged_data_train_v2.tsv'\n",
    "\n",
    "# Test data path\n",
    "TEST_DATA_PATH = './data/merged_data_test_v2.tsv'\n",
    "\n",
    "# Determining the device (GPU or CPU)\n",
    "device = torch.device(\"cuda\" if torch.cuda.is_available() else \"cpu\")"
   ]
  },
  {
   "cell_type": "markdown",
   "id": "a53e61d5-43ed-4457-a217-33383925274e",
   "metadata": {},
   "source": [
    "## 1. Linear model with one-hot encodings"
   ]
  },
  {
   "cell_type": "markdown",
   "id": "30273557-c70e-47b5-96c7-8d3fb33c8a1d",
   "metadata": {
    "id": "30273557-c70e-47b5-96c7-8d3fb33c8a1d"
   },
   "source": [
    "#### Loading the dataset and splitting it"
   ]
  },
  {
   "cell_type": "code",
   "execution_count": 4,
   "id": "1056e89d-c702-4706-9a92-4a4fa5e69ec5",
   "metadata": {
    "id": "1056e89d-c702-4706-9a92-4a4fa5e69ec5"
   },
   "outputs": [],
   "source": [
    "# Loading training dataset\n",
    "sequence_dataset = AASequenceDatasetLinear(TRAIN_DATA_PATH, use_embeddings=False, num_neighbours=20)"
   ]
  },
  {
   "cell_type": "markdown",
   "id": "406c9159-882a-4c8b-bb1c-8568a0334565",
   "metadata": {
    "id": "406c9159-882a-4c8b-bb1c-8568a0334565"
   },
   "source": [
    "#### The training\n",
    "Defining parameters:"
   ]
  },
  {
   "cell_type": "code",
   "execution_count": 5,
   "id": "5b0228d9-92a4-4816-a131-36c501a517c8",
   "metadata": {
    "colab": {
     "background_save": true
    },
    "id": "5b0228d9-92a4-4816-a131-36c501a517c8"
   },
   "outputs": [],
   "source": [
    "# Fixing unbalaced data problem\n",
    "pos_weight = torch.tensor(11.46)\n",
    "\n",
    "# Dec21_14-39-53_lbmpc2Linear50\n",
    "model = nn.Sequential(nn.Linear(420,128, dtype=torch.float64),\n",
    "                       *([nn.Sequential(nn.Linear(128,128, dtype=torch.float64) , nn.ELU()) for i in range(8)]),\n",
    "                       nn.Linear(128,1, dtype=torch.float64) ).to(device)\n",
    "# Loss function\n",
    "loss_fn = nn.BCEWithLogitsLoss(pos_weight= pos_weight) \n",
    "\n",
    "# Optimizer \n",
    "opt = optim.Adam(model.parameters(), lr=0.001)\n",
    "\n",
    "# Defining number of epochs\n",
    "epoch_num = 30"
   ]
  },
  {
   "cell_type": "markdown",
   "id": "23a039ca-ac14-4796-ac34-4c0ac948d4ae",
   "metadata": {},
   "source": [
    "Training:"
   ]
  },
  {
   "cell_type": "code",
   "execution_count": null,
   "id": "44702453-7e35-4f19-b70b-496c043d1430",
   "metadata": {},
   "outputs": [],
   "source": [
    "# Training model\n",
    "training_and_evaluation.train_model(model=model,\n",
    "                                    sequence_dataset=sequence_dataset,\n",
    "                                    epoch_num=epoch_num,\n",
    "                                    opt=opt,\n",
    "                                    loss_fn=loss_fn,\n",
    "                                    device=device,\n",
    "                                    file_path='./saved_models/linear_test.nerf',\n",
    "                                    writer_comment='linear_test',\n",
    "                                    my_collate=my_collate\n",
    "                                   )"
   ]
  },
  {
   "cell_type": "markdown",
   "id": "8064447d-2f7f-41f9-8959-d79bc9189271",
   "metadata": {},
   "source": [
    "#### Model evaluation"
   ]
  },
  {
   "cell_type": "markdown",
   "id": "3bfce0ba-ac82-4901-a585-44fc4f105bc5",
   "metadata": {},
   "source": [
    "Loading the model:"
   ]
  },
  {
   "cell_type": "code",
   "execution_count": 6,
   "id": "f1f74547-4a06-47a5-913e-eedd0e4f6466",
   "metadata": {},
   "outputs": [],
   "source": [
    "# Loading saved model\n",
    "model = torch.load('./saved_models/model50.nerf')"
   ]
  },
  {
   "cell_type": "markdown",
   "id": "8e31fa74-0b79-4305-a00d-f360fa79f832",
   "metadata": {},
   "source": [
    "Loading the test dataset:"
   ]
  },
  {
   "cell_type": "code",
   "execution_count": 8,
   "id": "7bd7935c-e8be-427d-99dc-bf85c27ff1a0",
   "metadata": {},
   "outputs": [],
   "source": [
    "# Loading test dataset\n",
    "test_set = AASequenceDataset(TEST_DATA_PATH, use_embeddings=True, num_neighbours=0)\n",
    "\n",
    "# Creating test DataLoader\n",
    "test_dataloader = DataLoader(test_set, batch_size=300,\n",
    "                        shuffle=True, num_workers=0, collate_fn=my_collate)"
   ]
  },
  {
   "cell_type": "markdown",
   "id": "bb554f02-1026-4f80-b81c-8d522e03a3c0",
   "metadata": {},
   "source": [
    "Evaluation of the model:"
   ]
  },
  {
   "cell_type": "code",
   "execution_count": 22,
   "id": "d8dd224d-2330-4e3b-b252-18685ba0aa8a",
   "metadata": {},
   "outputs": [
    {
     "name": "stderr",
     "output_type": "stream",
     "text": [
      "/tmp/ipykernel_1620597/1540175652.py:12: UserWarning: To copy construct from a tensor, it is recommended to use sourceTensor.clone().detach() or sourceTensor.clone().detach().requires_grad_(True), rather than torch.tensor(sourceTensor).\n",
      "  seq = torch.tensor(seq).to(device)\n"
     ]
    },
    {
     "data": {
      "image/png": "[encoded data removed]",
      "text/plain": [
       "<Figure size 432x288 with 1 Axes>"
      ]
     },
     "metadata": {
      "needs_background": "light"
     },
     "output_type": "display_data"
    },
    {
     "name": "stdout",
     "output_type": "stream",
     "text": [
      "RecallPrecisionAUC: 0.33896689448724465\n",
      "AveragePrecision: 0.33896837900591853\n"
     ]
    },
    {
     "data": {
      "image/png": "[encoded data removed]",
      "text/plain": [
       "<Figure size 432x288 with 1 Axes>"
      ]
     },
     "metadata": {
      "needs_background": "light"
     },
     "output_type": "display_data"
    },
    {
     "name": "stdout",
     "output_type": "stream",
     "text": [
      "ROC_AUC: 0.7669910978713722\n"
     ]
    }
   ],
   "source": [
    "# Evaluating the model\n",
    "training_and_evaluation.evaluate_model(model, test_dataloader, device)"
   ]
  },
  {
   "cell_type": "markdown",
   "id": "a833f661-6492-452b-a9f7-1c42c1060de6",
   "metadata": {},
   "source": [
    "## 1. Linear model with PESTO embeddings"
   ]
  },
  {
   "cell_type": "markdown",
   "id": "89fa9d84-1d51-43b9-b372-78498bf385b4",
   "metadata": {},
   "source": [
    "#### Loading the dataset and splitting it"
   ]
  },
  {
   "cell_type": "code",
   "execution_count": null,
   "id": "d6bef9fe-7867-4b20-8877-bf08d4c22e17",
   "metadata": {},
   "outputs": [],
   "source": [
    "# Loading training dataset\n",
    "sequence_dataset = AASequenceDatasetLinear(TRAIN_DATA_PATH, use_embeddings=True, num_neighbours=0)"
   ]
  },
  {
   "cell_type": "markdown",
   "id": "f6f87591-d8a7-4619-8b04-77a643a58f50",
   "metadata": {},
   "source": [
    "#### The training\n",
    "Defining parameters:"
   ]
  },
  {
   "cell_type": "code",
   "execution_count": null,
   "id": "a6603585-623d-409a-a0a5-b2dd134107df",
   "metadata": {},
   "outputs": [],
   "source": [
    "# Fixing unbalaced data problem\n",
    "pos_weight = torch.tensor(11.46)\n",
    "\n",
    "# Dec21_14-39-53_lbmpc2Linear50\n",
    "model = nn.Sequential(nn.Linear(64,32, dtype=torch.float64),\n",
    "                      *([nn.Sequential(nn.Linear(32,32, dtype=torch.float64) , nn.ELU()) for i in range(2)]),\n",
    "                      nn.Linear(32,1, dtype=torch.float64)).to(device)\n",
    "# Loss function\n",
    "loss_fn = nn.BCEWithLogitsLoss(pos_weight= pos_weight) \n",
    "\n",
    "# Optimizer \n",
    "opt = optim.Adam(model.parameters(), lr=0.001)\n",
    "\n",
    "# Defining number of epochs\n",
    "epoch_num = 30"
   ]
  },
  {
   "cell_type": "markdown",
   "id": "7e6380fc-d065-43ef-882f-030463ce39ab",
   "metadata": {},
   "source": [
    "Training:"
   ]
  },
  {
   "cell_type": "code",
   "execution_count": null,
   "id": "78447ba4-6156-41aa-b74f-476037859fde",
   "metadata": {},
   "outputs": [],
   "source": [
    "# Training the model\n",
    "training_and_evaluation.train_model(model=model,\n",
    "                                    sequence_dataset=sequence_dataset,\n",
    "                                    epoch_num=epoch_num,\n",
    "                                    opt=opt,\n",
    "                                    loss_fn=loss_fn,\n",
    "                                    device=device,\n",
    "                                    file_path='./saved_models/linear_pesto.nerf',\n",
    "                                    writer_comment='pesto_test',\n",
    "                                    my_collate=my_collate\n",
    "                                   )"
   ]
  },
  {
   "cell_type": "markdown",
   "id": "232925f6-a46d-4f4a-adc8-c18c5b7d1122",
   "metadata": {},
   "source": [
    "#### Model evaluation"
   ]
  },
  {
   "cell_type": "markdown",
   "id": "40fc9ca1-2244-4af0-a910-23905c9977d3",
   "metadata": {},
   "source": [
    "Loading the model:"
   ]
  },
  {
   "cell_type": "code",
   "execution_count": 6,
   "id": "05e6e399-9025-4af5-b31b-e10b56431c43",
   "metadata": {},
   "outputs": [],
   "source": [
    "# Loading saved model\n",
    "model = torch.load('./saved_models/modelPesto0.nerf')"
   ]
  },
  {
   "cell_type": "markdown",
   "id": "8f489246-d1c9-4c74-88ba-5741817f7241",
   "metadata": {},
   "source": [
    "Loding the test dataset:"
   ]
  },
  {
   "cell_type": "code",
   "execution_count": 8,
   "id": "d33773de-e739-4cee-9668-1935ab5d85e2",
   "metadata": {},
   "outputs": [],
   "source": [
    "# Loading test dataset\n",
    "test_set = AASequenceDataset(TEST_DATA_PATH, use_embeddings=True, num_neighbours=0)\n",
    "\n",
    "# Creating test DataLoader\n",
    "test_dataloader = DataLoader(test_set, batch_size=300,\n",
    "                        shuffle=True, num_workers=0, collate_fn=my_collate)"
   ]
  },
  {
   "cell_type": "markdown",
   "id": "c4f02668-d18f-4af5-bd66-dc78adb9428c",
   "metadata": {},
   "source": [
    "Evaluation of the model:"
   ]
  },
  {
   "cell_type": "code",
   "execution_count": 9,
   "id": "924ef170-45e8-4ce3-80e0-e0960de19712",
   "metadata": {},
   "outputs": [
    {
     "name": "stderr",
     "output_type": "stream",
     "text": [
      "/data/student/training_and_evaluation.py:37: UserWarning: To copy construct from a tensor, it is recommended to use sourceTensor.clone().detach() or sourceTensor.clone().detach().requires_grad_(True), rather than torch.tensor(sourceTensor).\n",
      "  seq = torch.tensor(seq).to(device)\n"
     ]
    },
    {
     "data": {
      "image/png": "[encoded data removed]",
      "text/plain": [
       "<Figure size 432x288 with 1 Axes>"
      ]
     },
     "metadata": {
      "needs_background": "light"
     },
     "output_type": "display_data"
    },
    {
     "name": "stdout",
     "output_type": "stream",
     "text": [
      "RecallPrecisionAUC: 0.19781890039371658\n",
      "AveragePrecision: 0.19782053512838507\n"
     ]
    },
    {
     "data": {
      "image/png": "[encoded data removed]",
      "text/plain": [
       "<Figure size 432x288 with 1 Axes>"
      ]
     },
     "metadata": {
      "needs_background": "light"
     },
     "output_type": "display_data"
    },
    {
     "name": "stdout",
     "output_type": "stream",
     "text": [
      "ROC_AUC: 0.6838342090507552\n"
     ]
    }
   ],
   "source": [
    "# Evaluating the model\n",
    "training_and_evaluation.evaluate_model(model, test_dataloader, device)"
   ]
  }
 ],
 "metadata": {
  "accelerator": "GPU",
  "colab": {
   "collapsed_sections": [],
   "name": "training.ipynb",
   "provenance": []
  },
  "kernelspec": {
   "display_name": "Python 3 (ipykernel)",
   "language": "python",
   "name": "python3"
  },
  "language_info": {
   "codemirror_mode": {
    "name": "ipython",
    "version": 3
   },
   "file_extension": ".py",
   "mimetype": "text/x-python",
   "name": "python",
   "nbconvert_exporter": "python",
   "pygments_lexer": "ipython3",
   "version": "3.9.5"
  }
 },
 "nbformat": 4,
 "nbformat_minor": 5
}
